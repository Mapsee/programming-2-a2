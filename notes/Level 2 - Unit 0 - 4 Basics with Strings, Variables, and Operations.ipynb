{
 "cells": [
  {
   "cell_type": "markdown",
   "metadata": {},
   "source": [
    "# Unit 0.4 - Basics"
   ]
  },
  {
   "cell_type": "markdown",
   "metadata": {},
   "source": [
    "# _**Strings and f-strings**_\n",
    "## What does f stand for?\n",
    "\n",
    "F stands for **fast**."
   ]
  },
  {
   "cell_type": "code",
   "execution_count": 1,
   "metadata": {},
   "outputs": [
    {
     "name": "stdout",
     "output_type": "stream",
     "text": [
      "The quick brown fox jumps over the lazy dog.\n",
      "2\n"
     ]
    }
   ],
   "source": [
    "print(f\"The quick brown fox jumps over the lazy dog.\")\n",
    "print(f\"{1+1}\")"
   ]
  },
  {
   "cell_type": "markdown",
   "metadata": {},
   "source": [
    "## String Slices\n",
    "\n",
    "It's like taking pieces of strings out."
   ]
  },
  {
   "cell_type": "code",
   "execution_count": 2,
   "metadata": {},
   "outputs": [
    {
     "name": "stdout",
     "output_type": "stream",
     "text": [
      "Jan\n"
     ]
    }
   ],
   "source": [
    "# 0123456 \n",
    "month = \"January\"\n",
    "abbreviation = month[0:3]\n",
    "print(abbreviation)"
   ]
  },
  {
   "cell_type": "code",
   "execution_count": 3,
   "metadata": {},
   "outputs": [
    {
     "name": "stdout",
     "output_type": "stream",
     "text": [
      "Aug\n",
      "gust\n"
     ]
    }
   ],
   "source": [
    "# [start:stop]\n",
    "month = \"August\"\n",
    "first_part = month[:3]\n",
    "print(first_part)\n",
    "last_part = month[2:]\n",
    "print(last_part)"
   ]
  },
  {
   "cell_type": "code",
   "execution_count": 4,
   "metadata": {},
   "outputs": [
    {
     "name": "stdout",
     "output_type": "stream",
     "text": [
      "13579\n",
      "2468\n"
     ]
    }
   ],
   "source": [
    "# [start:stop:step]\n",
    "\n",
    "number=\"123456789\"\n",
    "odd =number[::2]\n",
    "even=number[1::2]\n",
    "print(odd)\n",
    "print(even)"
   ]
  },
  {
   "cell_type": "code",
   "execution_count": 5,
   "metadata": {},
   "outputs": [
    {
     "name": "stdout",
     "output_type": "stream",
     "text": [
      "9\n",
      "8\n",
      "987654321\n"
     ]
    }
   ],
   "source": [
    "# can give negative indices (location)\n",
    "numbers = \"123456789\"\n",
    "last_num = numbers[-1]\n",
    "second_last_num = numbers[-2]\n",
    "print(last_num)\n",
    "print(second_last_num)\n",
    "\n",
    "print(numbers[::-1])"
   ]
  },
  {
   "cell_type": "markdown",
   "metadata": {},
   "source": [
    "## Operations in f-strings\n",
    "We use {} or **braces** to evaluate expressions inside of f-strings.\n",
    "\n",
    "### Using the Math Module\n",
    "We can import the Math module to help us calculate things\n",
    "\n",
    "https://docs.python.org/3/library/math.html"
   ]
  },
  {
   "cell_type": "code",
   "execution_count": 6,
   "metadata": {},
   "outputs": [
    {
     "name": "stdout",
     "output_type": "stream",
     "text": [
      "0.0\n",
      "The GCD of 10 and 688 is 2\n"
     ]
    }
   ],
   "source": [
    "# print(1 + 1)\n",
    "\n",
    "import math\n",
    "print(math.sin(0))\n",
    "print(f\"The GCD of 10 and 688 is {math.gcd(10, 688)}\")"
   ]
  },
  {
   "cell_type": "markdown",
   "metadata": {},
   "source": [
    "## Escape Sequences\n",
    "\n",
    "Sequence of characters that have a meaning besides the literal characters."
   ]
  },
  {
   "cell_type": "code",
   "execution_count": 7,
   "metadata": {},
   "outputs": [
    {
     "name": "stdout",
     "output_type": "stream",
     "text": [
      "One line. Second Line.\n",
      "one\ttwo\tthree\n",
      "a\tb\tc\t\n",
      "The boy said, \"blee bloo blee.\"\n"
     ]
    }
   ],
   "source": [
    "# \\n - newline\n",
    "print(\"One line. Second Line.\")\n",
    "\n",
    "# \\t - tab\n",
    "print(\"one\\ttwo\\tthree\")\n",
    "print(\"a\\tb\\tc\\t\")\n",
    "\n",
    "# \\\" - inserts a literal double quote\n",
    "print(\"The boy said, \\\"blee bloo blee.\\\"\")"
   ]
  },
  {
   "cell_type": "code",
   "execution_count": 8,
   "metadata": {},
   "outputs": [
    {
     "name": "stdout",
     "output_type": "stream",
     "text": [
      "First line.\n",
      "Second line.\n",
      "\n",
      "\n",
      "Fifth line.\n"
     ]
    }
   ],
   "source": [
    "# Triple Quote Strings\n",
    "print(\"\"\"First line.\n",
    "Second line.\n",
    "\n",
    "\n",
    "Fifth line.\"\"\")"
   ]
  },
  {
   "cell_type": "markdown",
   "metadata": {},
   "source": [
    "# Variables"
   ]
  },
  {
   "cell_type": "markdown",
   "metadata": {},
   "source": [
    "`=` -- assignment operator"
   ]
  },
  {
   "cell_type": "code",
   "execution_count": 9,
   "metadata": {},
   "outputs": [],
   "source": [
    "message = \"Your time is up.\"\n",
    "\n",
    "# How do you properly name variables\n",
    "# Should start with a lower-case letter\n",
    "name = \"Jonas\"\n",
    "age = 2\n",
    "Age = 2 # you could but it makes you look dumb \n",
    "\n",
    "# If you need a space, use an underscore \n",
    "data_of_birth = \"January 2, 2020\"\n",
    "dateOfBirth = \"January 2\" # a lower camel case - JAVA \n",
    "dob = \"January 2\" # be as descriptive, don't use abbreviations \n",
    "\n",
    "# Constants should be in ALL CAPS\n",
    "SCREEN_SIZE_MAX = (1024, 768)\n",
    "\n",
    "# You can use numbers in names\n",
    "numbers_of_2s = 72"
   ]
  },
  {
   "cell_type": "markdown",
   "metadata": {},
   "source": [
    "## Reassignment\n",
    "\n",
    "Give an existing variable a new value."
   ]
  },
  {
   "cell_type": "code",
   "execution_count": 10,
   "metadata": {},
   "outputs": [
    {
     "name": "stdout",
     "output_type": "stream",
     "text": [
      "Bruce\n",
      "Phoebe\n"
     ]
    }
   ],
   "source": [
    "# Reassignment\n",
    "persons_name = \"Bruce\"\n",
    "print(persons_name)\n",
    "persons_name = \"Phoebe\"\n",
    "print(persons_name)"
   ]
  },
  {
   "cell_type": "code",
   "execution_count": 11,
   "metadata": {},
   "outputs": [
    {
     "name": "stdout",
     "output_type": "stream",
     "text": [
      "5\n",
      "10\n",
      "5\n"
     ]
    }
   ],
   "source": [
    "# Assigning a variable to another variable\n",
    "a = 5\n",
    "b = a #5 \n",
    "print(b)\n",
    "a = 10\n",
    "print(a)\n",
    "print(b)"
   ]
  },
  {
   "cell_type": "markdown",
   "metadata": {},
   "source": [
    "## Updating Variables\n",
    "\n",
    "Updating the value of a variable"
   ]
  },
  {
   "cell_type": "code",
   "execution_count": null,
   "metadata": {},
   "outputs": [],
   "source": [
    "counter = 0\n",
    "print(counter)\n",
    "counter = counter + 1 #increases counter by 1\n",
    "print(counter)\n",
    "\n",
    "# increment, decrement, multiplication, and division\n",
    "counter +=1\n",
    "print(counter)\n",
    "counter -=1\n",
    "print(counter)\n",
    "counter *=2\n",
    "print(counter)\n",
    "counter /= 3\n",
    "print(counter)"
   ]
  },
  {
   "cell_type": "markdown",
   "metadata": {},
   "source": [
    "## Datatypes\n",
    "### What are some datatypes that we've seen?"
   ]
  },
  {
   "cell_type": "code",
   "execution_count": 13,
   "metadata": {},
   "outputs": [
    {
     "name": "stdout",
     "output_type": "stream",
     "text": [
      "Programming 2\n"
     ]
    }
   ],
   "source": [
    "# String\n",
    "\"Tim\"\n",
    "# f-strings\n",
    "f\"Ubial\"\n",
    "\n",
    "\n",
    "# OTHER DATATYPES\n",
    "12                # number -> integer (whole)\n",
    "12.                # number -> float\n",
    "True\n",
    "False                # boolean values\n",
    "[1, 2, 3]                # list\n",
    "[\"1\", \"2\", \"3\"]\n",
    "[1, \"2\", 3.0]\n",
    "{\"name\": \"Tim\"}                # dictionary (like a list)\n",
    "\n",
    "# e.g.\n",
    "student = {\n",
    "    \"name\": \"Paul\",\n",
    "    \"student number\": 123456,\n",
    "    \"a-block\": \"Programming 2\",\n",
    "    \"b-block\": \"Basketweaving 12\"\n",
    "    \n",
    "}\n",
    "print(student[\"a-block\"])"
   ]
  },
  {
   "cell_type": "markdown",
   "metadata": {},
   "source": [
    "### Casting\n",
    "What do we do to force Python to look at a string like it's a number?"
   ]
  },
  {
   "cell_type": "code",
   "execution_count": 14,
   "metadata": {},
   "outputs": [
    {
     "name": "stdout",
     "output_type": "stream",
     "text": [
      "21\n"
     ]
    }
   ],
   "source": [
    "age = \"16\"\n",
    "# add 5 to the age\n",
    "\n",
    "# use a cast to force a value into another type\n",
    "new_age = int(age)+ 5\n",
    "print(new_age)"
   ]
  },
  {
   "cell_type": "code",
   "execution_count": 15,
   "metadata": {},
   "outputs": [
    {
     "data": {
      "text/plain": [
       "str"
      ]
     },
     "execution_count": 15,
     "metadata": {},
     "output_type": "execute_result"
    }
   ],
   "source": [
    "# type() function\n",
    "type(\"Str\")"
   ]
  },
  {
   "cell_type": "markdown",
   "metadata": {},
   "source": [
    "# Statements and Expressions\n",
    "\n",
    "A **statement** is an instruction that Python can execute.  \n",
    "> Assignment (when we assign a value to a variable) is  \n",
    "a **statement**.\n",
    "\n",
    "> e.g. `date_of_birth = \"January 22\"`\n",
    "\n",
    "An **expression** is a statement that MUST BE EVALUATED.\n",
    "> e.g. `date_of_birth_and_year = date_of_birth + \" 2020\"`"
   ]
  },
  {
   "cell_type": "markdown",
   "metadata": {},
   "source": [
    "# Order of Operations\n",
    "\n",
    "BEDMAS\n",
    "1. Brackets\n",
    "2. Exponents\n",
    "3. Division and Multiplication\n",
    "4. The rest\n",
    "\n",
    "Evaluates from left-to-right (left-associative)"
   ]
  },
  {
   "cell_type": "code",
   "execution_count": 16,
   "metadata": {},
   "outputs": [],
   "source": [
    "# E.g."
   ]
  },
  {
   "cell_type": "code",
   "execution_count": 17,
   "metadata": {},
   "outputs": [
    {
     "name": "stdout",
     "output_type": "stream",
     "text": [
      "256\n",
      "2\n",
      "3\n",
      "1\n"
     ]
    }
   ],
   "source": [
    "# Other Operators\n",
    "\n",
    "# Exponents **\n",
    "value = 2**8\n",
    "print(value)\n",
    "\n",
    "# Floor division // (gives the result in an int)\n",
    "value = 11//5\n",
    "print(value)\n",
    "\n",
    "# Find the remainder % Modulo\n",
    "value = 8%5\n",
    "print(value)\n",
    "\n",
    "# e.g. use of Modulo -- calculating if something is divisible\n",
    "# check if 189947 is divisible by 7 \n",
    "value = 189947%7\n",
    "# print(value) # -> not divisible\n",
    "value = 189947%2\n",
    "print(value) #0 -> even    1 -> odd"
   ]
  },
  {
   "cell_type": "markdown",
   "metadata": {},
   "source": [
    "## Input\n",
    "### How do we get input from a user?"
   ]
  },
  {
   "cell_type": "code",
   "execution_count": null,
   "metadata": {},
   "outputs": [],
   "source": [
    "# Use the input() function\n",
    "\n",
    "name = input(\"What's your name? \")\n",
    "print(f\"Hello, {name}!\")"
   ]
  },
  {
   "cell_type": "markdown",
   "metadata": {},
   "source": [
    "---\n",
    "---\n",
    "# Practice\n",
    "Take some time to work through the examples below for practice."
   ]
  },
  {
   "cell_type": "markdown",
   "metadata": {},
   "source": [
    "## Fahrenheit to Celsius\n",
    "Create a program that asks the user for a temperature in Fahrenheit, and then prints the temperature in Celsius.\n",
    "\n",
    "The formula for conversion is:  \n",
    "`C = (F − 32) × 5/9 `"
   ]
  },
  {
   "cell_type": "code",
   "execution_count": 48,
   "metadata": {},
   "outputs": [
    {
     "name": "stdin",
     "output_type": "stream",
     "text": [
      "Enter fahrenheit:  100\n"
     ]
    },
    {
     "name": "stdout",
     "output_type": "stream",
     "text": [
      "The celsius is 37\n"
     ]
    }
   ],
   "source": [
    "fahrenheit = input(\"Enter fahrenheit: \")\n",
    "fahrenheit_int = int(fahrenheit)\n",
    "celsius = ((fahrenheit_int)-32)*5//9\n",
    "celsius_str = str(celsius)\n",
    "print(\"The celsius is \"+celsius_str)"
   ]
  },
  {
   "cell_type": "markdown",
   "metadata": {},
   "source": [
    "## Radius of Circle\n",
    "\n",
    "Create a program that takes the radius of a circle and calculates its area.\n",
    "\n",
    "The formula to calculate the area is:  \n",
    "`A = pi * r ^ 2`  \n",
    "\n",
    "Note:  \n",
    "In order to use pi, **import the math module**.  \n",
    "It has the constant, pi, that you can use.\n",
    "You can use it by using `math.pi`."
   ]
  },
  {
   "cell_type": "code",
   "execution_count": 35,
   "metadata": {},
   "outputs": [
    {
     "name": "stdin",
     "output_type": "stream",
     "text": [
      "radius si'l vous plait:  5\n"
     ]
    },
    {
     "name": "stdout",
     "output_type": "stream",
     "text": [
      "78.53981633974483\n"
     ]
    }
   ],
   "source": [
    "import math \n",
    "\n",
    "radius = input(\"radius si'l vous plait: \")\n",
    "ehheint = int(radius)\n",
    "area = math.pi*ehheint**2\n",
    "print(area)"
   ]
  },
  {
   "cell_type": "code",
   "execution_count": 50,
   "metadata": {},
   "outputs": [
    {
     "name": "stdin",
     "output_type": "stream",
     "text": [
      "What's the radius of the circle?  5\n"
     ]
    },
    {
     "name": "stdout",
     "output_type": "stream",
     "text": [
      "The area of a circle with radius 5.0 is 78.53981633974483\n"
     ]
    }
   ],
   "source": [
    "import math\n",
    "\n",
    "#get radius from the user\n",
    "\n",
    "radius = float(input(\"What's the radius of the circle? \"))\n",
    "\n",
    "#print area of circle\n",
    "area = math.pi * radius ** 2\n",
    "\n",
    "print(f\"The area of a circle with radius {radius} is {area}\")"
   ]
  },
  {
   "cell_type": "markdown",
   "metadata": {},
   "source": [
    "## Compound Interest\n",
    "\n",
    "![Compound Interest](http://www.ourpursuitofperfection.com/wp-content/uploads/2017/06/compound-interest-formula-diagram.png)\n",
    "\n",
    "Write a Python program that has a **principal amount of 15000**, **compounds monthly** (n = 12), and has an **interest rate of 8%** (0.08). Then have the program ask the user for the number of years, t. Calculate and print the final amount after t years."
   ]
  },
  {
   "cell_type": "code",
   "execution_count": 44,
   "metadata": {},
   "outputs": [
    {
     "name": "stdin",
     "output_type": "stream",
     "text": [
      "Years?:  30\n"
     ]
    },
    {
     "name": "stdout",
     "output_type": "stream",
     "text": [
      "164035.9448663336\n"
     ]
    }
   ],
   "source": [
    "p = 15000\n",
    "n = 12\n",
    "r = 0.08 \n",
    "no = input(\"Years?: \")\n",
    "t = int(no)\n",
    "a = p*(1+r/n)**(n*t)\n",
    "print(a)"
   ]
  },
  {
   "cell_type": "code",
   "execution_count": 52,
   "metadata": {},
   "outputs": [
    {
     "name": "stdin",
     "output_type": "stream",
     "text": [
      "How many years do you want to compound?  1\n"
     ]
    },
    {
     "name": "stdout",
     "output_type": "stream",
     "text": [
      "You would have 16244.992602112647 after 1 years\n"
     ]
    }
   ],
   "source": [
    "principal = 15000\n",
    "compound_per_year = 12\n",
    "interest_rate = .08\n",
    "\n",
    "# ask user for # of years compounded\n",
    "number_of_years = int(input(\"How many years do you want to compound? \"))\n",
    "\n",
    "# calculate and print out the result \n",
    "amount = principal * (1+interest_rate/compound_per_year)**(compound_per_year*number_of_years)\n",
    "print(f\"You would have {amount} after {number_of_years} years\")"
   ]
  },
  {
   "cell_type": "markdown",
   "metadata": {},
   "source": [
    "**Evaluating Expressions**\n",
    "Evaluate the following expressions in your head. Use the code cell below to see if you're correct.\n",
    "\n",
    "  5 ** 2\n",
    "\n",
    "  9 * 5\n",
    "\n",
    "  15 / 12\n",
    "\n",
    "  12 / 15\n",
    "\n",
    "  15 // 12\n",
    "\n",
    "  12 // 15\n",
    "\n",
    "  5 % 2\n",
    "\n",
    "  9 % 5\n",
    "\n",
    "  15 % 12\n",
    "\n",
    "  12 % 15\n",
    "\n",
    "  6 % 6\n",
    "\n",
    "  0 % 7"
   ]
  },
  {
   "cell_type": "code",
   "execution_count": 47,
   "metadata": {},
   "outputs": [
    {
     "name": "stdin",
     "output_type": "stream",
     "text": [
      "Give me number bro:  3\n",
      "I need a divisor bro:  5\n",
      "Operation dude:  Multiplication\n"
     ]
    },
    {
     "name": "stdout",
     "output_type": "stream",
     "text": [
      "15\n"
     ]
    }
   ],
   "source": [
    "number1 = input(\"Give me number bro: \")\n",
    "number2 = input(\"I need a divisor bro: \")\n",
    "yes = int(number1)\n",
    "no = int(number2)\n",
    "operation = input(\"Operation dude: \")\n",
    "if operation == \"Multiplication\":\n",
    "    print(yes*no)\n",
    "elif operation == \"Division\":\n",
    "    print(yes//no)\n",
    "elif operation == \"Remainder\":\n",
    "    print(yes%no)"
   ]
  },
  {
   "cell_type": "markdown",
   "metadata": {},
   "source": [
    "**Order of Operations**\n",
    "Evaluate the following expression using the proper order of operations used in Python.\n",
    "\n",
    "2 + (3 - 1) * 10 / 5 * (2 + 3)"
   ]
  },
  {
   "cell_type": "code",
   "execution_count": 20,
   "metadata": {},
   "outputs": [
    {
     "name": "stdout",
     "output_type": "stream",
     "text": [
      "22.0\n"
     ]
    }
   ],
   "source": [
    "operation = 2 + (3 - 1) * 10 / 5 * (2 + 3)\n",
    "print(operation)"
   ]
  },
  {
   "cell_type": "markdown",
   "metadata": {},
   "source": [
    "**Translating Time and Alarms**\n",
    "\n",
    "Problem: In Europe, time is generally told using the 24h clock (e.g. 11:00 is 11:00am and 23:00 is 11:00pm, 00:00 is midnight). Using this standard of time, if it is 13:00 and you set your alarm to go off in 50 hours, it will be 15:00 (3:00pm).\n",
    "\n",
    "Write a Python program in the code cell below to solve the general version of the above problem.  \n",
    "Ask the user for the time now (in hours), and then ask for the number of hours to wait for the alarm.  \n",
    "Your program should output what the time will be on the clock when the alarm goes off."
   ]
  },
  {
   "cell_type": "code",
   "execution_count": 53,
   "metadata": {},
   "outputs": [
    {
     "name": "stdin",
     "output_type": "stream",
     "text": [
      "What is the current time?  13\n",
      "How long would you like  50\n"
     ]
    },
    {
     "name": "stdout",
     "output_type": "stream",
     "text": [
      "The alarm should go off at 15:00. \n"
     ]
    }
   ],
   "source": [
    "# Get current time from user\n",
    "current_time = int(input(\"What is the current time? \"))\n",
    "\n",
    "# Get alarm duration from user\n",
    "alarm_duration = int(input(\"How long would you like to set the alarm clock\"))\n",
    "\n",
    "# Calculate the 24h time the alarm goes off \n",
    "result = (current_time+alarm_duration) %24\n",
    "print(f\"The alarm should go off at {result}:00. \")"
   ]
  },
  {
   "cell_type": "markdown",
   "metadata": {},
   "source": [
    "**String Work**\n",
    "\n",
    "Take the sentence: All work and no play makes Jack a dull boy. Store each word in a separate variable,\n",
    "then print out the sentence on one line using print."
   ]
  },
  {
   "cell_type": "code",
   "execution_count": 46,
   "metadata": {},
   "outputs": [
    {
     "name": "stdout",
     "output_type": "stream",
     "text": [
      "['All', 'work', 'and', 'no', 'play', 'makes', 'Jack', 'a', 'dull', 'boy.']\n"
     ]
    }
   ],
   "source": [
    "sentence = \"All work and no play makes Jack a dull boy.\"\n",
    "yes = sentence.split()\n",
    "print(yes)\n"
   ]
  }
 ],
 "metadata": {
  "kernelspec": {
   "display_name": "Python 3",
   "language": "python",
   "name": "python3"
  },
  "language_info": {
   "codemirror_mode": {
    "name": "ipython",
    "version": 3
   },
   "file_extension": ".py",
   "mimetype": "text/x-python",
   "name": "python",
   "nbconvert_exporter": "python",
   "pygments_lexer": "ipython3",
   "version": "3.8.2"
  }
 },
 "nbformat": 4,
 "nbformat_minor": 4
}
